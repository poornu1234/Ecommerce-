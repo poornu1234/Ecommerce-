{
 "cells": [
  {
   "cell_type": "code",
   "execution_count": 1,
   "id": "3419e5ca-7c73-4f0a-bc96-ba0745838718",
   "metadata": {},
   "outputs": [],
   "source": [
    "import pandas as pd\n",
    "import numpy as np\n",
    "from sklearn.preprocessing import StandardScaler\n",
    "from sklearn.metrics.pairwise import cosine_similarity"
   ]
  },
  {
   "cell_type": "code",
   "execution_count": 2,
   "id": "36c7da9c-0dea-4928-ac1a-668124de91a5",
   "metadata": {},
   "outputs": [],
   "source": [
    "customers = pd.read_csv('Customers.csv')\n",
    "transactions = pd.read_csv('Transactions.csv')\n",
    "products = pd.read_csv('Products.csv')"
   ]
  },
  {
   "cell_type": "code",
   "execution_count": 8,
   "id": "24c6a81d-ff8e-4d1b-a8a9-2dadc8480988",
   "metadata": {},
   "outputs": [],
   "source": [
    "def create_customer_profile(customer_id):\n",
    "   \n",
    "    customer_transactions = transactions[transactions['CustomerID'] == customer_id]\n",
    "    total_purchases = customer_transactions['TotalValue'].sum()\n",
    "    avg_purchase_value = customer_transactions['TotalValue'].mean()\n",
    "    purchase_frequency = len(customer_transactions)\n",
    "    \n",
    "   \n",
    "    product_details = customer_transactions.merge(products, on='ProductID')\n",
    "    category_breakdown = product_details['Category'].value_counts(normalize=True)\n",
    "    \n",
    "    return {\n",
    "        'total_purchases': total_purchases,\n",
    "        'avg_purchase_value': avg_purchase_value,\n",
    "        'purchase_frequency': purchase_frequency,\n",
    "        **category_breakdown.to_dict()\n",
    "    }"
   ]
  },
  {
   "cell_type": "code",
   "execution_count": 9,
   "id": "1cba038e-c903-4cca-a7a9-4b2e89f4a5b1",
   "metadata": {},
   "outputs": [],
   "source": [
    "customer_profiles = {}\n",
    "for cust_id in customers['CustomerID'][:20]:\n",
    "    customer_profiles[cust_id] = create_customer_profile(cust_id)"
   ]
  },
  {
   "cell_type": "code",
   "execution_count": 10,
   "id": "ca0fcd20-6e47-4b38-bc3c-d16161ab0db6",
   "metadata": {},
   "outputs": [],
   "source": [
    "profiles_df = pd.DataFrame.from_dict(customer_profiles, orient='index')\n",
    "profiles_df = profiles_df.fillna(0)"
   ]
  },
  {
   "cell_type": "code",
   "execution_count": 11,
   "id": "855d6d29-f9fa-4eab-b56b-a75fd370a26c",
   "metadata": {},
   "outputs": [],
   "source": [
    "scaler = StandardScaler()\n",
    "normalized_profiles = scaler.fit_transform(profiles_df)"
   ]
  },
  {
   "cell_type": "code",
   "execution_count": 12,
   "id": "c07a2fde-23d2-47e1-9663-c44a1e835843",
   "metadata": {},
   "outputs": [],
   "source": [
    "similarity_matrix = cosine_similarity(normalized_profiles)"
   ]
  },
  {
   "cell_type": "code",
   "execution_count": 13,
   "id": "37fdf059-6b80-48f5-9bcd-eacddfe11e11",
   "metadata": {},
   "outputs": [],
   "source": [
    "def find_top_lookalikes(target_index, similarity_matrix, top_n=3):\n",
    "    similarities = similarity_matrix[target_index]\n",
    "    similar_indices = similarities.argsort()[::-1][1:top_n+1]\n",
    "    return [(list(customer_profiles.keys())[idx], similarities[idx]) for idx in similar_indices]"
   ]
  },
  {
   "cell_type": "code",
   "execution_count": 14,
   "id": "41ea8713-307e-490d-b7a7-667a12dca89b",
   "metadata": {},
   "outputs": [],
   "source": [
    "lookalikes_dict = {}\n",
    "for i, cust_id in enumerate(list(customer_profiles.keys())[:20]):\n",
    "    lookalikes = find_top_lookalikes(i, similarity_matrix)\n",
    "    lookalikes_dict[cust_id] = lookalikes"
   ]
  },
  {
   "cell_type": "code",
   "execution_count": 15,
   "id": "b64d0d32-3acd-419b-95eb-634eaa901bf4",
   "metadata": {},
   "outputs": [],
   "source": [
    "lookalike_data = []\n",
    "for cust_id, lookalikes in lookalikes_dict.items():\n",
    "    for similar_cust, score in lookalikes:\n",
    "        lookalike_data.append({\n",
    "            'SourceCustomer': cust_id,\n",
    "            'SimilarCustomer': similar_cust,\n",
    "            'SimilarityScore': score\n",
    "        })"
   ]
  },
  {
   "cell_type": "code",
   "execution_count": 16,
   "id": "c2370b3f-c784-470e-b3d2-d5219fde9df3",
   "metadata": {},
   "outputs": [
    {
     "name": "stdout",
     "output_type": "stream",
     "text": [
      "Lookalike Model Complete!\n"
     ]
    }
   ],
   "source": [
    "lookalike_df = pd.DataFrame(lookalike_data)\n",
    "lookalike_df.to_csv('Poornima M_Nerale_Lookalike.csv', index=False)\n",
    "\n",
    "print(\"Lookalike Model Complete!\")"
   ]
  },
  {
   "cell_type": "code",
   "execution_count": null,
   "id": "17eef5e5-0837-42de-898d-ab0dde010345",
   "metadata": {},
   "outputs": [],
   "source": []
  }
 ],
 "metadata": {
  "kernelspec": {
   "display_name": "Python 3 (ipykernel)",
   "language": "python",
   "name": "python3"
  },
  "language_info": {
   "codemirror_mode": {
    "name": "ipython",
    "version": 3
   },
   "file_extension": ".py",
   "mimetype": "text/x-python",
   "name": "python",
   "nbconvert_exporter": "python",
   "pygments_lexer": "ipython3",
   "version": "3.12.6"
  }
 },
 "nbformat": 4,
 "nbformat_minor": 5
}
